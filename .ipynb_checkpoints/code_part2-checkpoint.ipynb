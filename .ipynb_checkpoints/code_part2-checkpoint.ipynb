{
 "cells": [
  {
   "cell_type": "code",
   "execution_count": 1,
   "metadata": {},
   "outputs": [],
   "source": [
    "import pandas as pd\n",
    "import numpy as np\n",
    "import json\n",
    "from itertools import groupby"
   ]
  },
  {
   "cell_type": "code",
   "execution_count": 2,
   "metadata": {},
   "outputs": [],
   "source": [
    "input_filename=\"C:/Users/davje/Documents/David/GBateries/GBPython/Data.txt\""
   ]
  },
  {
   "cell_type": "code",
   "execution_count": null,
   "metadata": {},
   "outputs": [],
   "source": [
    "with open(input_filename, \"r\") as d:\n",
    "    columns = [\"osTimeStamp\", \"code\", \"value\"]\n",
    "    data=pd.read_csv(d, delimiter=\" \", usecols=[0,1,2], names=columns)\n",
    "    data.reset_index(drop=True, inplace=True)\n",
    "    data[\"code\"] = data[\"code\"].map(lambda x: x.lstrip(\"TS>\"))\n",
    "    #data['osTimeStamp']=data['osTimeStamp'].astype(str)\n",
    "    #data['value']=data['value'].astype(int)"
   ]
  },
  {
   "cell_type": "code",
   "execution_count": null,
   "metadata": {},
   "outputs": [],
   "source": [
    "data"
   ]
  },
  {
   "cell_type": "code",
   "execution_count": null,
   "metadata": {},
   "outputs": [],
   "source": [
    "data.dtypes"
   ]
  },
  {
   "cell_type": "code",
   "execution_count": null,
   "metadata": {},
   "outputs": [],
   "source": [
    "grouped=data.groupby(\"code\")"
   ]
  },
  {
   "cell_type": "code",
   "execution_count": null,
   "metadata": {},
   "outputs": [],
   "source": [
    "df=grouped.get_group('A1')\n",
    "df=df.drop([\"code\"], axis=1)\n",
    "df"
   ]
  },
  {
   "cell_type": "code",
   "execution_count": null,
   "metadata": {},
   "outputs": [],
   "source": [
    "df.dtypes"
   ]
  },
  {
   "cell_type": "code",
   "execution_count": null,
   "metadata": {},
   "outputs": [],
   "source": [
    "a=999.65556\n",
    "b=round(a)\n",
    "print(type(b))\n",
    "print(type(a))"
   ]
  },
  {
   "cell_type": "code",
   "execution_count": null,
   "metadata": {},
   "outputs": [],
   "source": [
    "#df[\"SMA\"]=df.iloc[:,1].rolling(window=3).mean()\n",
    "#df"
   ]
  },
  {
   "cell_type": "code",
   "execution_count": null,
   "metadata": {},
   "outputs": [],
   "source": [
    "# Define n_sample\n",
    "print(\"Length dataframe: \" + str(len(df)))\n",
    "n_sample=2\n",
    "if n_sample==\"\":\n",
    "    n_sample=1\n",
    "elif n_sample > len(df):\n",
    "    n_sample=len(df)\n",
    "print(n_sample)"
   ]
  },
  {
   "cell_type": "code",
   "execution_count": null,
   "metadata": {},
   "outputs": [],
   "source": [
    "df[\"avg\"]=df.value.rolling(window=n_sample).mean()\n",
    "df"
   ]
  },
  {
   "cell_type": "code",
   "execution_count": null,
   "metadata": {},
   "outputs": [],
   "source": [
    "# Delete NA values\n",
    "df_red=df.dropna(axis=0, subset=['avg'])\n",
    "df_red=df_red.drop([\"value\"], axis=1)\n",
    "df_red"
   ]
  },
  {
   "cell_type": "code",
   "execution_count": null,
   "metadata": {},
   "outputs": [],
   "source": [
    "description=[]\n",
    "aux1=str(df[\"osTimeStamp\"].iloc[0])\n",
    "print (aux1)\n",
    "aux2=(df[\"value\"].iloc[0])\n",
    "print(aux2)\n",
    "description.append(aux1)\n",
    "description.append(aux2)\n",
    "print(description)"
   ]
  },
  {
   "cell_type": "code",
   "execution_count": null,
   "metadata": {},
   "outputs": [],
   "source": [
    "type(description[0])"
   ]
  },
  {
   "cell_type": "code",
   "execution_count": null,
   "metadata": {},
   "outputs": [],
   "source": [
    "print(type(data['value']))"
   ]
  },
  {
   "cell_type": "code",
   "execution_count": 3,
   "metadata": {
    "scrolled": true
   },
   "outputs": [],
   "source": [
    "def get_sorted_data(input_filename, **kwargs):\n",
    "    aux0=kwargs.get(\"num_samples\", 1)\n",
    "    #aux0=int(aux0)  \n",
    "    print(\"Original num_samples: \" + str(aux0))\n",
    "    if (aux0 == 0) | (aux0==\"\"):\n",
    "        print(\"num_samples = 1\")\n",
    "        aux0=1\n",
    "        \n",
    "    with open(input_filename, \"r\") as d:\n",
    "        columns = [\"osTimeStamp\", \"code\", \"value\"]\n",
    "        data=pd.read_csv(d, delimiter=\" \", usecols=[0,1,2], names=columns)\n",
    "        data.reset_index(drop=True, inplace=True)\n",
    "        data[\"code\"] = data[\"code\"].map(lambda x: x.lstrip(\"TS>\"))\n",
    "        codes=data[\"code\"].unique()\n",
    "        codes=list(codes)\n",
    "        print(\"Unique codes present in the file: \" + str(codes))\n",
    "    response={}\n",
    "    for k in codes:\n",
    "        response[k]=[]\n",
    "        \n",
    "        \n",
    "    grouped=data.groupby(\"code\")\n",
    "    fields=[\"osTimeStamp\", \"value\"]\n",
    "    for name in codes:\n",
    "        #print(list1)\n",
    "        list1=[]\n",
    "        df=grouped.get_group(name)\n",
    "        df=df.drop([\"code\"], axis=1)\n",
    "        print(\"Lenght of DataFrame: \" + str(len(df)))\n",
    "        # Validate num_samples value\n",
    "        print(\"validation process, aux0 = \" +str(aux0))\n",
    "        \n",
    "        if aux0> len(df):\n",
    "            print(\"num_samples > df\")\n",
    "            num_samples=len(df)\n",
    "        else:\n",
    "            num_samples=aux0\n",
    "        \n",
    "        df[\"avg\"]=df.value.rolling(window=num_samples).mean()\n",
    "        print(\"Final num_sample: \" + str(num_samples))\n",
    "        num_samples=0\n",
    "        # Delete NA values\n",
    "        df_red=df.dropna(axis=0, subset=['avg'])\n",
    "        df_red=df_red.drop([\"value\"], axis=1)\n",
    "        \n",
    "        for line in range (len(df_red)):\n",
    "            description=[]\n",
    "            aux1=str(df_red[\"osTimeStamp\"].iloc[line])\n",
    "            aux2=int(round(df_red[\"avg\"].iloc[line]))\n",
    "            description.append(aux1)\n",
    "            description.append(aux2)\n",
    "            #print(\"Description is: \", description)\n",
    "            i=0\n",
    "            dict1={}\n",
    "            while i<len(fields):\n",
    "                dict1[fields[i]]=description[i]\n",
    "                i=i+1\n",
    "            #print(\"Dic is:\",dict1)\n",
    "            list1.append(dict1)\n",
    "        response[name]=list1\n",
    "    return(response)\n",
    "    #print(\"GROUPED BY:\" + str(name))\n",
    "        #print(\"list1 = \", list1)\n"
   ]
  },
  {
   "cell_type": "code",
   "execution_count": 4,
   "metadata": {},
   "outputs": [
    {
     "name": "stdout",
     "output_type": "stream",
     "text": [
      "Original num_samples: 142\n",
      "Unique codes present in the file: ['A1', 'A2', 'A3', '86', 'A6', 'A9', '8E', 'A4', 'A5', 'B0']\n",
      "Lenght of DataFrame: 72\n",
      "validation process, aux0 = 142\n",
      "num_samples > df\n",
      "Final num_sample: 72\n",
      "Lenght of DataFrame: 72\n",
      "validation process, aux0 = 142\n",
      "num_samples > df\n",
      "Final num_sample: 72\n",
      "Lenght of DataFrame: 72\n",
      "validation process, aux0 = 142\n",
      "num_samples > df\n",
      "Final num_sample: 72\n",
      "Lenght of DataFrame: 142\n",
      "validation process, aux0 = 142\n",
      "Final num_sample: 142\n",
      "Lenght of DataFrame: 142\n",
      "validation process, aux0 = 142\n",
      "Final num_sample: 142\n",
      "Lenght of DataFrame: 142\n",
      "validation process, aux0 = 142\n",
      "Final num_sample: 142\n",
      "Lenght of DataFrame: 72\n",
      "validation process, aux0 = 142\n",
      "num_samples > df\n",
      "Final num_sample: 72\n",
      "Lenght of DataFrame: 72\n",
      "validation process, aux0 = 142\n",
      "num_samples > df\n",
      "Final num_sample: 72\n",
      "Lenght of DataFrame: 72\n",
      "validation process, aux0 = 142\n",
      "num_samples > df\n",
      "Final num_sample: 72\n",
      "Lenght of DataFrame: 142\n",
      "validation process, aux0 = 142\n",
      "Final num_sample: 142\n"
     ]
    }
   ],
   "source": [
    "response=get_sorted_data(input_filename, num_samples=142)"
   ]
  },
  {
   "cell_type": "code",
   "execution_count": null,
   "metadata": {
    "scrolled": true
   },
   "outputs": [],
   "source": [
    "response"
   ]
  },
  {
   "cell_type": "code",
   "execution_count": null,
   "metadata": {
    "scrolled": true
   },
   "outputs": [],
   "source": [
    "dav_list=response[\"A1\"]\n",
    "dav_list"
   ]
  },
  {
   "cell_type": "code",
   "execution_count": null,
   "metadata": {},
   "outputs": [],
   "source": [
    "dav_dic=dav_list[0]\n",
    "dav_dic"
   ]
  },
  {
   "cell_type": "code",
   "execution_count": null,
   "metadata": {},
   "outputs": [],
   "source": [
    "types2 = [type(k) for k in dav_dic.values()]\n",
    "types2"
   ]
  },
  {
   "cell_type": "code",
   "execution_count": null,
   "metadata": {},
   "outputs": [],
   "source": [
    "output_filename=\"C:/Users/davje/Documents/David/GBateries/GBPython/OutputFile.json\"\n",
    "with open(output_filename, 'w') as f:\n",
    "    json.dump(response,f, indent= 4)"
   ]
  },
  {
   "cell_type": "code",
   "execution_count": null,
   "metadata": {},
   "outputs": [],
   "source": []
  },
  {
   "cell_type": "code",
   "execution_count": null,
   "metadata": {
    "scrolled": true
   },
   "outputs": [],
   "source": [
    "dav=response.copy()"
   ]
  },
  {
   "cell_type": "code",
   "execution_count": null,
   "metadata": {},
   "outputs": [],
   "source": [
    "print(type(dav))"
   ]
  },
  {
   "cell_type": "code",
   "execution_count": null,
   "metadata": {},
   "outputs": [],
   "source": [
    "dav"
   ]
  },
  {
   "cell_type": "code",
   "execution_count": null,
   "metadata": {},
   "outputs": [],
   "source": [
    "z=json.dumps(dav)"
   ]
  },
  {
   "cell_type": "code",
   "execution_count": null,
   "metadata": {},
   "outputs": [],
   "source": [
    "z"
   ]
  },
  {
   "cell_type": "code",
   "execution_count": null,
   "metadata": {},
   "outputs": [],
   "source": [
    "type(response)"
   ]
  },
  {
   "cell_type": "code",
   "execution_count": null,
   "metadata": {},
   "outputs": [],
   "source": [
    "test"
   ]
  },
  {
   "cell_type": "code",
   "execution_count": null,
   "metadata": {},
   "outputs": [],
   "source": [
    "output_filename=\"C:/Users/davje/Documents/David/GBateries/GBPython/OutputFile.json\"\n",
    "with open(output_filename, 'w') as f:\n",
    "    json.dump(response,f)"
   ]
  },
  {
   "cell_type": "code",
   "execution_count": null,
   "metadata": {},
   "outputs": [],
   "source": []
  },
  {
   "cell_type": "code",
   "execution_count": null,
   "metadata": {},
   "outputs": [],
   "source": []
  },
  {
   "cell_type": "code",
   "execution_count": null,
   "metadata": {},
   "outputs": [],
   "source": []
  },
  {
   "cell_type": "code",
   "execution_count": null,
   "metadata": {},
   "outputs": [],
   "source": []
  },
  {
   "cell_type": "code",
   "execution_count": null,
   "metadata": {},
   "outputs": [],
   "source": [
    "A1=grouped.get_group(\"A1\")"
   ]
  },
  {
   "cell_type": "code",
   "execution_count": null,
   "metadata": {},
   "outputs": [],
   "source": [
    "A1=A1.drop([\"value\"], axis=1)\n"
   ]
  },
  {
   "cell_type": "code",
   "execution_count": null,
   "metadata": {},
   "outputs": [],
   "source": [
    "for line in range (len(A1)):\n",
    "    row=list(A1.iloc[line])\n",
    "    print(row)"
   ]
  },
  {
   "cell_type": "code",
   "execution_count": null,
   "metadata": {},
   "outputs": [],
   "source": [
    "list1=list(A1[\"osTimeStamp\"].astype(str))"
   ]
  },
  {
   "cell_type": "code",
   "execution_count": null,
   "metadata": {
    "scrolled": true
   },
   "outputs": [],
   "source": [
    "list1"
   ]
  },
  {
   "cell_type": "code",
   "execution_count": null,
   "metadata": {},
   "outputs": [],
   "source": [
    "list2=list(A1[\"value\"])"
   ]
  },
  {
   "cell_type": "code",
   "execution_count": null,
   "metadata": {
    "scrolled": true
   },
   "outputs": [],
   "source": [
    "list2"
   ]
  },
  {
   "cell_type": "code",
   "execution_count": null,
   "metadata": {},
   "outputs": [],
   "source": [
    "z=zip(list1,list2)"
   ]
  },
  {
   "cell_type": "code",
   "execution_count": null,
   "metadata": {},
   "outputs": [],
   "source": [
    "len(tuple(z))"
   ]
  },
  {
   "cell_type": "code",
   "execution_count": null,
   "metadata": {},
   "outputs": [],
   "source": [
    "print(tuple(z))"
   ]
  },
  {
   "cell_type": "code",
   "execution_count": null,
   "metadata": {},
   "outputs": [],
   "source": [
    "variable = str(\"A10\")"
   ]
  },
  {
   "cell_type": "code",
   "execution_count": null,
   "metadata": {},
   "outputs": [],
   "source": [
    "variable"
   ]
  },
  {
   "cell_type": "code",
   "execution_count": null,
   "metadata": {},
   "outputs": [],
   "source": [
    "A10"
   ]
  },
  {
   "cell_type": "code",
   "execution_count": null,
   "metadata": {},
   "outputs": [],
   "source": [
    "a=\"emp\"+str(1)"
   ]
  },
  {
   "cell_type": "code",
   "execution_count": null,
   "metadata": {},
   "outputs": [],
   "source": [
    "a"
   ]
  },
  {
   "cell_type": "code",
   "execution_count": null,
   "metadata": {},
   "outputs": [],
   "source": [
    "dav=dict({1:\"2\", 2:\"2\"}, {1:\"dav\", 2:\"jess\"})"
   ]
  },
  {
   "cell_type": "code",
   "execution_count": null,
   "metadata": {},
   "outputs": [],
   "source": [
    "dav"
   ]
  },
  {
   "cell_type": "code",
   "execution_count": null,
   "metadata": {},
   "outputs": [],
   "source": []
  },
  {
   "cell_type": "markdown",
   "metadata": {
    "scrolled": true
   },
   "source": [
    "with open(input_filename, \"r\") as d:\n",
    "    columns = [\"osTimeStamp\", \"code\", \"value\"]\n",
    "    data=pd.read_csv(d, delimiter=\" \", usecols=[0,1,2], names=columns)"
   ]
  },
  {
   "cell_type": "markdown",
   "metadata": {},
   "source": [
    "data.reset_index(drop=True, inplace=True)"
   ]
  },
  {
   "cell_type": "markdown",
   "metadata": {},
   "source": [
    "data[\"code\"] = data[\"code\"].map(lambda x: x.lstrip(\"TS>\"))"
   ]
  },
  {
   "cell_type": "markdown",
   "metadata": {},
   "source": [
    "data['osTimeStamp']=data['osTimeStamp'].astype(str)\n",
    "data"
   ]
  },
  {
   "cell_type": "markdown",
   "metadata": {},
   "source": [
    "codes=data[\"code\"].unique()"
   ]
  },
  {
   "cell_type": "markdown",
   "metadata": {
    "scrolled": true
   },
   "source": [
    "codes=list(codes)\n",
    "codes"
   ]
  },
  {
   "cell_type": "markdown",
   "metadata": {},
   "source": [
    "response={}\n",
    "for i in codes:\n",
    "    response[i]=[]\n",
    "    print(response)"
   ]
  },
  {
   "cell_type": "markdown",
   "metadata": {},
   "source": [
    "print(type(response))"
   ]
  }
 ],
 "metadata": {
  "kernelspec": {
   "display_name": "Python 3",
   "language": "python",
   "name": "python3"
  },
  "language_info": {
   "codemirror_mode": {
    "name": "ipython",
    "version": 3
   },
   "file_extension": ".py",
   "mimetype": "text/x-python",
   "name": "python",
   "nbconvert_exporter": "python",
   "pygments_lexer": "ipython3",
   "version": "3.7.4"
  }
 },
 "nbformat": 4,
 "nbformat_minor": 2
}
